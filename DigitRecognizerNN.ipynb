{
  "nbformat": 4,
  "nbformat_minor": 0,
  "metadata": {
    "colab": {
      "name": "DigitRecognizerNN.ipynb",
      "version": "0.3.2",
      "provenance": [],
      "collapsed_sections": [],
      "include_colab_link": true
    },
    "kernelspec": {
      "name": "python3",
      "display_name": "Python 3"
    },
    "accelerator": "GPU"
  },
  "cells": [
    {
      "cell_type": "markdown",
      "metadata": {
        "id": "view-in-github",
        "colab_type": "text"
      },
      "source": [
        "[View in Colaboratory](https://colab.research.google.com/github/AshwiniBaipadithayaMadhusudan/MNIST-DIGIT-PREDICTION/blob/master/DigitRecognizerNN.ipynb)"
      ]
    },
    {
      "metadata": {
        "id": "cLk3lpgq4DNc",
        "colab_type": "text"
      },
      "cell_type": "markdown",
      "source": [
        "**MOUNTING DRIVE:**\n",
        "\n",
        "---\n",
        "\n",
        "\n",
        "Firstly, we will mount the drive so that we can access drive from colab to read and write files.\n"
      ]
    },
    {
      "metadata": {
        "id": "nJy2OiN0jHar",
        "colab_type": "code",
        "colab": {}
      },
      "cell_type": "code",
      "source": [
        "!apt-get install -y -qq software-properties-common python-software-properties module-init-tools\n",
        "!wget https://launchpad.net/~alessandro-strada/+archive/ubuntu/google-drive-ocamlfuse-beta/+build/15331130/+files/google-drive-ocamlfuse_0.7.0-0ubuntu1_amd64.deb\n",
        "!dpkg -i google-drive-ocamlfuse_0.7.0-0ubuntu1_amd64.deb\n",
        "!apt-get install -f\n",
        "!apt-get -y install -qq fuse\n",
        "from google.colab import auth\n",
        "auth.authenticate_user()\n",
        "from oauth2client.client import GoogleCredentials\n",
        "creds = GoogleCredentials.get_application_default()\n",
        "import getpass\n",
        "!google-drive-ocamlfuse -headless -id={creds.client_id} -secret={creds.client_secret} < /dev/null 2>&1 | grep URL\n",
        "vcode = getpass.getpass()\n",
        "!echo {vcode} | google-drive-ocamlfuse -headless -id={creds.client_id} -secret={creds.client_secret}"
      ],
      "execution_count": 0,
      "outputs": []
    },
    {
      "metadata": {
        "id": "P-qt0nFZkJnk",
        "colab_type": "code",
        "colab": {}
      },
      "cell_type": "code",
      "source": [
        "!mkdir -p drive\n",
        "!google-drive-ocamlfuse drive"
      ],
      "execution_count": 0,
      "outputs": []
    },
    {
      "metadata": {
        "id": "tTYcNeOe5N8C",
        "colab_type": "text"
      },
      "cell_type": "markdown",
      "source": [
        "**INSTALLING FASTAI LIBRARY:**\n",
        "\n",
        "---\n",
        "\n"
      ]
    },
    {
      "metadata": {
        "id": "LLksM9LHk7Vn",
        "colab_type": "code",
        "colab": {}
      },
      "cell_type": "code",
      "source": [
        "!pip install fastai==0.7.0 # 0.7.0 is used to install the latest version of fastai\n",
        "from fastai.imports import *\n",
        "from fastai.torch_imports import *\n",
        "from fastai.io import *\n",
        "%matplotlib inline\n",
        "\n",
        "from fastai.metrics import *\n",
        "from fastai.model import *\n",
        "from fastai.dataset import *\n",
        "\n",
        "import torch.nn as nn"
      ],
      "execution_count": 0,
      "outputs": []
    },
    {
      "metadata": {
        "id": "ry6xt7WQ5vuy",
        "colab_type": "text"
      },
      "cell_type": "markdown",
      "source": [
        "**DOWNLOAD AND READ DATA:**\n",
        "\n",
        "---\n",
        "The MNIST data is downloaded from web and saved in pickle format\n"
      ]
    },
    {
      "metadata": {
        "id": "E_4EGvZmugJv",
        "colab_type": "code",
        "colab": {}
      },
      "cell_type": "code",
      "source": [
        "PATH=\"/content/drive/MNIST/\" #set the path to the folder where the input file is stored"
      ],
      "execution_count": 0,
      "outputs": []
    },
    {
      "metadata": {
        "id": "WlHNA9xwn2K7",
        "colab_type": "code",
        "colab": {}
      },
      "cell_type": "code",
      "source": [
        "URL='http://deeplearning.net/data/mnist/'\n",
        "FILENAME='mnist.pkl.gz'\n",
        "\n",
        "def load_mnist(filename):\n",
        "    return pickle.load(gzip.open(filename, 'rb'), encoding='latin-1')#opens the zipped pickle file"
      ],
      "execution_count": 0,
      "outputs": []
    },
    {
      "metadata": {
        "id": "nxYzRHkltc3N",
        "colab_type": "code",
        "colab": {}
      },
      "cell_type": "code",
      "source": [
        "get_data(URL+FILENAME, PATH+FILENAME)#copies the file fom URL to path specified\n",
        "((x, y), (x_valid, y_valid), _) = load_mnist(PATH+FILENAME)#reads and loads the file\n",
        "\n",
        "#Note that we have used underscore in the place of test file above . This is because we do not want to store test file"
      ],
      "execution_count": 0,
      "outputs": []
    },
    {
      "metadata": {
        "id": "B0oaOadutfT_",
        "colab_type": "code",
        "colab": {}
      },
      "cell_type": "code",
      "source": [
        "type(x), x.shape, type(y), y.shape # There are 50000 images in both train and validation sets. Each image is 28*28(784) pixels"
      ],
      "execution_count": 0,
      "outputs": []
    },
    {
      "metadata": {
        "id": "tGmZ3XJFu9wj",
        "colab_type": "code",
        "colab": {}
      },
      "cell_type": "code",
      "source": [
        "!ls {PATH}#This is used to list all the files in the specified path. Note that PATH is written inside curly braces. \n",
        "          #This is because ls is a bash command."
      ],
      "execution_count": 0,
      "outputs": []
    },
    {
      "metadata": {
        "id": "W76Q4q0Y6gPN",
        "colab_type": "text"
      },
      "cell_type": "markdown",
      "source": [
        "**NORMALIZE THE DATA**\n",
        "\n",
        "---\n"
      ]
    },
    {
      "metadata": {
        "id": "MOxtu519vEtD",
        "colab_type": "code",
        "colab": {
          "base_uri": "https://localhost:8080/",
          "height": 35
        },
        "outputId": "6e543a05-101a-4647-b601-f092c28f2650"
      },
      "cell_type": "code",
      "source": [
        "mean = x.mean()\n",
        "std = x.std()\n",
        "\n",
        "x=(x-mean)/std              #It is important that we normalize data whenever we choose Neural networks. This is because we use gradient descent as\n",
        "                            # our optimizer. If the data is normalized, it will reach it optima faster.\n",
        "mean, std, x.mean(), x.std()"
      ],
      "execution_count": 6,
      "outputs": [
        {
          "output_type": "execute_result",
          "data": {
            "text/plain": [
              "(0.13044983, 0.3072898, -3.1638146e-07, 0.99999934)"
            ]
          },
          "metadata": {
            "tags": []
          },
          "execution_count": 6
        }
      ]
    },
    {
      "metadata": {
        "id": "ZtqX_cJ5vhC9",
        "colab_type": "code",
        "colab": {}
      },
      "cell_type": "code",
      "source": [
        "x_valid = (x_valid-mean)/std  #Always validation and test data should be normalized using mean and std of training data\n",
        "x_valid.mean(), x_valid.std()"
      ],
      "execution_count": 0,
      "outputs": []
    },
    {
      "metadata": {
        "id": "LvKHpCbSJIUu",
        "colab_type": "text"
      },
      "cell_type": "markdown",
      "source": [
        "**FIT THE NEURAL NETWORK MODEL AND FIND BEST FIT PARAMETERS**\n",
        "\n",
        "---\n",
        "\n"
      ]
    },
    {
      "metadata": {
        "id": "lw0DtJZhlhoM",
        "colab_type": "code",
        "colab": {}
      },
      "cell_type": "code",
      "source": [
        "net = nn.Sequential(\n",
        "    nn.Linear(28*28, 100), \n",
        "    nn.ReLU(),\n",
        "    nn.Linear(100, 100),\n",
        "    nn.ReLU(),\n",
        "    nn.Linear(100, 10),\n",
        "    nn.LogSoftmax()            \n",
        ").cuda()                       # cuda() will run the model on GPU  "
      ],
      "execution_count": 0,
      "outputs": []
    },
    {
      "metadata": {
        "id": "-aUWd8Bfllrv",
        "colab_type": "code",
        "colab": {}
      },
      "cell_type": "code",
      "source": [
        "md = ImageClassifierData.from_arrays(PATH, (x,y), (x_valid, y_valid))"
      ],
      "execution_count": 0,
      "outputs": []
    },
    {
      "metadata": {
        "id": "vjhZ0twVtHs-",
        "colab_type": "code",
        "colab": {}
      },
      "cell_type": "code",
      "source": [
        "loss=nn.NLLLoss()      # Loss fuction used is negative log likelihood loss\n",
        "metrics=[accuracy]\n",
        "\n",
        "opt=optim.SGD(net.parameters(), 1e-1, momentum=0.9, weight_decay=1e-3)# Parameters of Loss function will be optimized using\n",
        "                                                                      # Stochastic gradient descent"
      ],
      "execution_count": 0,
      "outputs": []
    },
    {
      "metadata": {
        "id": "uQNjAMbetQ4v",
        "colab_type": "code",
        "colab": {}
      },
      "cell_type": "code",
      "source": [
        "fit(net, md, n_epochs=5, crit=loss, opt=opt, metrics=metrics) # We will train 'net' model with 'md' data.Now we will calculate negative log\n",
        "                                                              #likelihood loss. We try to minimize this loss by finding best parameters with minimum\n",
        "                                                              # loss. This is done using SGD . 5 epoch means optimizer will try to optimize for \n",
        "                                                              # 5*(no_of_rows in md)"
      ],
      "execution_count": 0,
      "outputs": []
    },
    {
      "metadata": {
        "id": "5Smq85Y6tev-",
        "colab_type": "code",
        "colab": {}
      },
      "cell_type": "code",
      "source": [
        "set_lrs(opt, 1e-2)# This will change the weight decay. Weight decay is used to determine the amount to which we want use regularization"
      ],
      "execution_count": 0,
      "outputs": []
    },
    {
      "metadata": {
        "id": "Ld5VbOK3tq81",
        "colab_type": "code",
        "colab": {}
      },
      "cell_type": "code",
      "source": [
        "fit(net, md, n_epochs=3, crit=loss, opt=opt, metrics=metrics)"
      ],
      "execution_count": 0,
      "outputs": []
    },
    {
      "metadata": {
        "id": "VDxASbLft1cD",
        "colab_type": "code",
        "colab": {}
      },
      "cell_type": "code",
      "source": [
        "t = [o.numel() for o in net.parameters()]\n",
        "t, sum(t)"
      ],
      "execution_count": 0,
      "outputs": []
    },
    {
      "metadata": {
        "id": "Qt48DOCCJWgE",
        "colab_type": "text"
      },
      "cell_type": "markdown",
      "source": [
        "**PREDICT VALIDATION DATA**\n",
        "\n",
        "---\n",
        "\n"
      ]
    },
    {
      "metadata": {
        "id": "R7xdWKU3uDHm",
        "colab_type": "code",
        "colab": {}
      },
      "cell_type": "code",
      "source": [
        "preds = predict(net, md.val_dl)"
      ],
      "execution_count": 0,
      "outputs": []
    },
    {
      "metadata": {
        "id": "9YHT4qLkug4z",
        "colab_type": "code",
        "colab": {}
      },
      "cell_type": "code",
      "source": [
        "preds.shape"
      ],
      "execution_count": 0,
      "outputs": []
    },
    {
      "metadata": {
        "id": "AXJXabQRulpd",
        "colab_type": "code",
        "colab": {}
      },
      "cell_type": "code",
      "source": [
        "preds.argmax(axis=1)[:5]"
      ],
      "execution_count": 0,
      "outputs": []
    },
    {
      "metadata": {
        "id": "CNC8JjNiu0G6",
        "colab_type": "code",
        "colab": {}
      },
      "cell_type": "code",
      "source": [
        "np.mean(preds == y_valid)          #accuracy on validation set"
      ],
      "execution_count": 0,
      "outputs": []
    },
    {
      "metadata": {
        "id": "D_7RF8z7vaHg",
        "colab_type": "code",
        "colab": {}
      },
      "cell_type": "code",
      "source": [
        "def plots(ims, figsize=(12,6), rows=2, titles=None):\n",
        "    f = plt.figure(figsize=figsize)\n",
        "    cols = len(ims)//rows\n",
        "    for i in range(len(ims)):\n",
        "        sp = f.add_subplot(rows, cols, i+1)\n",
        "        sp.axis('Off')\n",
        "        if titles is not None: sp.set_title(titles[i], fontsize=16)\n",
        "        plt.imshow(ims[i], cmap='gray')"
      ],
      "execution_count": 0,
      "outputs": []
    },
    {
      "metadata": {
        "id": "HE7f34ilvoX_",
        "colab_type": "code",
        "colab": {}
      },
      "cell_type": "code",
      "source": [
        "x_imgs = np.reshape(x_valid, (-1,28,28))"
      ],
      "execution_count": 0,
      "outputs": []
    },
    {
      "metadata": {
        "id": "hqxcS-hmu4vT",
        "colab_type": "code",
        "colab": {
          "base_uri": "https://localhost:8080/",
          "height": 389
        },
        "outputId": "8a9e331b-0be8-4522-fe07-e726d7db45e3"
      },
      "cell_type": "code",
      "source": [
        "plots(x_imgs[:8], titles=preds[:8])# plotting the predictions on first 8 validation data and their actual values as titles"
      ],
      "execution_count": 29,
      "outputs": [
        {
          "output_type": "display_data",
          "data": {
            "image/png": "[encoded data removed]",
            "text/plain": [
              "<matplotlib.figure.Figure at 0x7f5e575c86d8>"
            ]
          },
          "metadata": {
            "tags": []
          }
        }
      ]
    },
    {
      "metadata": {
        "id": "INVprNmhu9GO",
        "colab_type": "code",
        "colab": {}
      },
      "cell_type": "code",
      "source": [
        ""
      ],
      "execution_count": 0,
      "outputs": []
    }
  ]
}